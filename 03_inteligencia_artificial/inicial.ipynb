{
 "cells": [
  {
   "cell_type": "markdown",
   "metadata": {},
   "source": [
    "# Projeto Python IA: Inteligência Artificial e Previsões\n",
    "\n",
    "### Case: Score de Crédito dos Clientes\n",
    "\n",
    "Você foi contratado por um banco para conseguir definir o score de crédito dos clientes. Você precisa analisar todos os clientes do banco e, com base nessa análise, criar um modelo que consiga ler as informações do cliente e dizer automaticamente o score de crédito dele: Ruim, Ok, Bom\n",
    "\n",
    "Arquivos da aula: https://drive.google.com/drive/folders/1FbDqVq4XLvU85VBlVIMJ73p9oOu6u2-J?usp=drive_link"
   ]
  },
  {
   "cell_type": "code",
   "execution_count": 22,
   "metadata": {},
   "outputs": [],
   "source": [
    "import pandas as pd\n",
    "from sklearn.preprocessing import LabelEncoder\n",
    "from sklearn.model_selection import train_test_split\n",
    "from sklearn.ensemble import RandomForestClassifier\n",
    "from sklearn.neighbors import KNeighborsClassifier\n",
    "from sklearn.metrics import accuracy_score"
   ]
  },
  {
   "cell_type": "code",
   "execution_count": null,
   "metadata": {},
   "outputs": [],
   "source": [
    "table = pd.read_csv(\"clientes.csv\")\n",
    "display(table)\n",
    "display(table.info())"
   ]
  },
  {
   "cell_type": "code",
   "execution_count": null,
   "metadata": {},
   "outputs": [],
   "source": [
    "encoder = LabelEncoder()\n",
    "table[\"profissao\"] = encoder.fit_transform(table[\"profissao\"])\n",
    "table[\"mix_credito\"] = encoder.fit_transform(table[\"mix_credito\"])\n",
    "table[\"comportamento_pagamento\"] = encoder.fit_transform(table[\"comportamento_pagamento\"])\n",
    "display(table.info())"
   ]
  },
  {
   "cell_type": "code",
   "execution_count": 25,
   "metadata": {},
   "outputs": [],
   "source": [
    "y = table[\"score_credito\"]\n",
    "x = table.drop(columns=[\"score_credito\", \"id_cliente\"])\n",
    "x_train, x_test, y_train, y_test = train_test_split(x, y, test_size=0.3)"
   ]
  },
  {
   "cell_type": "code",
   "execution_count": null,
   "metadata": {},
   "outputs": [],
   "source": [
    "model_forest = RandomForestClassifier()\n",
    "model_knn = KNeighborsClassifier()\n",
    "model_forest.fit(x_train, y_train)\n",
    "model_knn.fit(x_train, y_train)"
   ]
  },
  {
   "cell_type": "code",
   "execution_count": null,
   "metadata": {},
   "outputs": [],
   "source": [
    "forecast_forest = model_forest.predict(x_test)\n",
    "forecast_knn = model_knn.predict(x_test.to_numpy())\n",
    "print(accuracy_score(y_test, forecast_forest))\n",
    "print(accuracy_score(y_test, forecast_knn))"
   ]
  },
  {
   "cell_type": "code",
   "execution_count": null,
   "metadata": {},
   "outputs": [],
   "source": [
    "new_clients = pd.read_csv(\"novos_clientes.csv\")\n",
    "display(new_clients)\n",
    "new_clients[\"profissao\"] = encoder.fit_transform(new_clients[\"profissao\"])\n",
    "new_clients[\"mix_credito\"] = encoder.fit_transform(new_clients[\"mix_credito\"])\n",
    "new_clients[\"comportamento_pagamento\"] = encoder.fit_transform(new_clients[\"comportamento_pagamento\"])\n",
    "forecasts = model_forest.predict(new_clients)\n",
    "display(forecasts)"
   ]
  }
 ],
 "metadata": {
  "kernelspec": {
   "display_name": "Python 3",
   "language": "python",
   "name": "python3"
  },
  "language_info": {
   "codemirror_mode": {
    "name": "ipython",
    "version": 3
   },
   "file_extension": ".py",
   "mimetype": "text/x-python",
   "name": "python",
   "nbconvert_exporter": "python",
   "pygments_lexer": "ipython3",
   "version": "3.10.12"
  },
  "orig_nbformat": 4
 },
 "nbformat": 4,
 "nbformat_minor": 2
}
